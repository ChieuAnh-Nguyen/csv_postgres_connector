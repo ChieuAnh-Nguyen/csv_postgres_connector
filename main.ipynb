{
 "cells": [
  {
   "cell_type": "code",
   "execution_count": 18,
   "metadata": {},
   "outputs": [],
   "source": [
    "import postgres_creds as cred\n",
    "import importlib\n",
    "importlib.reload(cred)\n",
    "from functions import *"
   ]
  },
  {
   "cell_type": "code",
   "execution_count": 19,
   "metadata": {},
   "outputs": [],
   "source": [
    "\n",
    "# Main.py\n",
    "new_directory = \"imported_csv\"\n",
    "\n",
    "# Create list of csv\n",
    "csv_files = create_csv_list()\n",
    "\n",
    "# Create new directory and move files\n",
    "change_directory (csv_files, new_directory)\n",
    "\n",
    "# Create dict\n",
    "df_dict = create_dict(csv_files, new_directory)\n",
    "\n",
    "for key in df_dict:\n",
    "# value\n",
    "    dataframe = df_dict[key]\n",
    "    dataframe_columns, column_dtype = clean_columns(dataframe)\n",
    "\n",
    "    upload_csv_to_DB(cred.host, cred.user, cred.password, cred.database, key, dataframe, dataframe_columns, column_dtype)\n"
   ]
  },
  {
   "cell_type": "code",
   "execution_count": null,
   "metadata": {},
   "outputs": [],
   "source": []
  }
 ],
 "metadata": {
  "interpreter": {
   "hash": "0adcc2737ebf6a4a119f135174df96668767fca1ef1112612db5ecadf2b6d608"
  },
  "kernelspec": {
   "display_name": "Python 3.8.5 64-bit",
   "name": "python3"
  },
  "language_info": {
   "codemirror_mode": {
    "name": "ipython",
    "version": 3
   },
   "file_extension": ".py",
   "mimetype": "text/x-python",
   "name": "python",
   "nbconvert_exporter": "python",
   "pygments_lexer": "ipython3",
   "version": "3.8.5"
  },
  "orig_nbformat": 4
 },
 "nbformat": 4,
 "nbformat_minor": 2
}
