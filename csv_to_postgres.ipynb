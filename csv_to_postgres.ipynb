{
 "cells": [
  {
   "cell_type": "code",
   "execution_count": 79,
   "id": "0a1f57f7",
   "metadata": {},
   "outputs": [
    {
     "data": {
      "text/plain": [
       "<module 'postgres_creds' from '/Users/chewynguyen/Desktop/csv_postgres_connector/postgres_creds.py'>"
      ]
     },
     "execution_count": 79,
     "metadata": {},
     "output_type": "execute_result"
    }
   ],
   "source": [
    "import os\n",
    "import re\n",
    "import pandas as pd\n",
    "import psycopg2\n",
    "import postgres_creds as cred\n",
    "# Since changes were made in cred and our ipynb can't see new changes, we use Importlib to reload the module\n",
    "import importlib\n",
    "importlib.reload(cred)"
   ]
  },
  {
   "cell_type": "code",
   "execution_count": 80,
   "metadata": {},
   "outputs": [],
   "source": [
    "# 1. add csv's in current directory to a list\n",
    "# re.sub(r'[^\\w\\.]', '_', csv) substitutes all non word and num characters\n",
    "def create_csv_list():\n",
    "    csv_files = []\n",
    "    for csv in os.listdir(os.getcwd()):\n",
    "        if '.csv' in csv:\n",
    "            old_csv_name = str(os.getcwd() + '/' + csv)\n",
    "            csv = re.sub(r'[^\\w\\.]', '_', csv).lower()\n",
    "            # 2. Check cwd, if csv in cwd, move csv to new folder\n",
    "            new_csv_name = str(os.getcwd() + '/' + csv)\n",
    "            if os.path.isfile(new_csv_name):\n",
    "                pass\n",
    "            else:\n",
    "                # Rename the file\n",
    "                os.rename(old_csv_name, new_csv_name)\n",
    "            csv_files.append(csv)\n",
    "    return csv_files"
   ]
  },
  {
   "cell_type": "code",
   "execution_count": 81,
   "metadata": {},
   "outputs": [],
   "source": [
    "# Create new folder in current directory\n",
    "def change_directory(csv_files,new_directory):\n",
    "    try:\n",
    "        os.mkdir(new_directory)\n",
    "    except:\n",
    "        pass\n",
    "    # move files to new directory\n",
    "    for csv in csv_files:\n",
    "        mv = \"mv '{0}' {1}\".format(csv,new_directory)\n",
    "        os.system(mv)\n",
    "    return\n"
   ]
  },
  {
   "cell_type": "code",
   "execution_count": 82,
   "metadata": {},
   "outputs": [],
   "source": [
    "#Create dictionary with csv name as key and df as value\n",
    "def create_dict(csv_files):\n",
    "    df_dict = {}\n",
    "    for csv in csv_files:\n",
    "        csv_path = str(os.getcwd() + '/' + new_directory + '/' + csv)\n",
    "        df_dict[csv] = pd.read_csv(csv_path, index_col = 0)\n",
    "    return df_dict"
   ]
  },
  {
   "cell_type": "code",
   "execution_count": 83,
   "metadata": {},
   "outputs": [],
   "source": [
    "# cleans column names and changes pd datatypes to sql datatypes\n",
    "def clean_columns(dataframe):\n",
    "    dataframe_columns = [re.sub(r'[^\\w\\.]', '_', column_name).lower() for column_name in dataframe.columns]\n",
    "\n",
    "# Replacing pd datatypes with sql datatypes\n",
    "    replacements = {\n",
    "        'timedelta64[ns]': 'varchar(255)',\n",
    "        'object': 'varchar(255)',\n",
    "        'float64': 'float',\n",
    "        'bool': 'boolean',\n",
    "        'int64': 'int',\n",
    "        'datetime64': 'timestamp'}\n",
    "    replaced_dtypes = dataframe.dtypes.replace(replacements)\n",
    "    # table schema\n",
    "    column_dtype = \", \".join(\"{} {}\".format(col_name, dtype) for (col_name, dtype) in zip(dataframe_columns, replaced_dtypes))\n",
    "\n",
    "    return dataframe_columns, column_dtype\n"
   ]
  },
  {
   "cell_type": "code",
   "execution_count": 84,
   "metadata": {},
   "outputs": [],
   "source": [
    "# Creates DB table name\n",
    "def upload_csv_to_DB(host,user,password,database,dataframe,dataframe_columns,column_dtype):\n",
    "    conn = psycopg2.connect('host = %s,user = %s, password = %s,database = %s' % (host,user,password,database))\n",
    "    cursor = conn.cursor()\n",
    "\n",
    "    db_table_name = key.split('.')[0]\n",
    "    #dataframe.columns as a str\n",
    "    dataframe_columns_insertable = ', '.join(dataframe_columns)\n",
    "    # 2. create queries\n",
    "    drop_table = 'DROP TABLE IF EXISTS ' + db_table_name\n",
    "    create_table = 'CREATE TABLE ' + db_table_name + \" (\" + column_dtype + \")\"\n",
    "    insert_into_table = 'INSERT INTO ' + db_table_name + '(' + dataframe_columns_insertable + ')' \\\n",
    "    +' VALUES ( %s' % ', '.join(['%s'] * len(dataframe_columns)) +')'\n",
    "        \n",
    "    select_table = 'SELECT * FROM ' + db_table_name\n",
    "\n",
    "    cursor.execute(drop_table)\n",
    "    cursor.execute(create_table)\n",
    "    # 3. create insert into function\n",
    "    for row in dataframe.iterrows():\n",
    "        cursor.execute(insert_into_table,row)\n",
    "\n",
    "    conn.commit()\n",
    "\n",
    "    # 4. Grant access to all users\n",
    "    cursor.execute('GRANT SELECT, INSERT, UPDATE ON TABLE %s TO PUBLIC' % db_table_name)\n",
    "\n",
    "    # 4. Show table in DB\n",
    "    cursor.execute(select_table)\n",
    "    for each in cursor:\n",
    "        print(each)\n",
    "    \n",
    "\n",
    "    cursor.close()"
   ]
  },
  {
   "cell_type": "code",
   "execution_count": 85,
   "metadata": {},
   "outputs": [],
   "source": [
    "# Main.py\n",
    "new_directory = \"imported_csv\"\n",
    "\n",
    "# Create list of csv\n",
    "csv_files = create_csv_list()\n",
    "\n",
    "# Create new directory and move files\n",
    "change_directory (csv_files, new_directory)\n",
    "\n",
    "# Create dict\n",
    "df_dict = create_dict(csv_files)\n",
    "\n",
    "for key in df_dict:\n",
    "# value\n",
    "    dataframe = df_dict[key]\n",
    "    dataframe_columns, column_dtype = clean_columns(dataframe)\n",
    "\n",
    "    upload_csv_to_DB(cred.host, cred.user, cred.password, cred.database, dataframe, dataframe_columns, column_dtype)\n"
   ]
  },
  {
   "cell_type": "code",
   "execution_count": null,
   "metadata": {},
   "outputs": [],
   "source": []
  },
  {
   "cell_type": "code",
   "execution_count": null,
   "metadata": {},
   "outputs": [],
   "source": []
  }
 ],
 "metadata": {
  "interpreter": {
   "hash": "0adcc2737ebf6a4a119f135174df96668767fca1ef1112612db5ecadf2b6d608"
  },
  "kernelspec": {
   "display_name": "Python 3.8.5 64-bit",
   "name": "python3"
  },
  "language_info": {
   "codemirror_mode": {
    "name": "ipython",
    "version": 3
   },
   "file_extension": ".py",
   "mimetype": "text/x-python",
   "name": "python",
   "nbconvert_exporter": "python",
   "pygments_lexer": "ipython3",
   "version": "3.8.5"
  }
 },
 "nbformat": 4,
 "nbformat_minor": 5
}
