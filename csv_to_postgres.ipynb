{
 "cells": [
  {
   "cell_type": "code",
   "execution_count": 37,
   "id": "0a1f57f7",
   "metadata": {},
   "outputs": [
    {
     "data": {
      "text/plain": [
       "<module 'postgres_creds' from '/Users/chewynguyen/Desktop/csv_postgres_connector/postgres_creds.py'>"
      ]
     },
     "execution_count": 37,
     "metadata": {},
     "output_type": "execute_result"
    }
   ],
   "source": [
    "import os\n",
    "import re\n",
    "import pandas as pd\n",
    "import psycopg2\n",
    "import postgres_creds as cred\n",
    "# Since changes were made in cred and our ipynb can't see new changes, we use Importlib to reload the module\n",
    "import importlib\n",
    "importlib.reload(cred)"
   ]
  },
  {
   "cell_type": "code",
   "execution_count": 38,
   "metadata": {},
   "outputs": [],
   "source": [
    "# 1. add csv's in current directory to a list\n",
    "# re.sub(r'[^\\w\\.]', '_', csv) substitutes all non word and num characters\n",
    "def create_csv_list():\n",
    "    csv_files = []\n",
    "    for csv in os.listdir(os.getcwd()):\n",
    "        if '.csv' in csv:\n",
    "            old_csv_name = str(os.getcwd() + '/' + csv)\n",
    "            csv = re.sub(r'[^\\w\\.]', '_', csv).lower()\n",
    "            # 2. Check cwd, if csv in cwd, move csv to new folder\n",
    "            new_csv_name = str(os.getcwd() + '/' + csv)\n",
    "            if os.path.isfile(new_csv_name):\n",
    "                pass\n",
    "            else:\n",
    "                # Rename the file\n",
    "                os.rename(old_csv_name, new_csv_name)\n",
    "            csv_files.append(csv)\n",
    "    return csv_files"
   ]
  },
  {
   "cell_type": "code",
   "execution_count": 39,
   "metadata": {},
   "outputs": [],
   "source": [
    "# Create new folder in current directory\n",
    "def change_directory(csv_files,new_directory):\n",
    "    try:\n",
    "        os.mkdir(new_directory)\n",
    "    except:\n",
    "        pass\n",
    "    # move files to new directory\n",
    "    for csv in csv_files:\n",
    "        mv = \"mv '{0}' {1}\".format(csv,new_directory)\n",
    "        os.system(mv)\n",
    "    return\n"
   ]
  },
  {
   "cell_type": "code",
   "execution_count": 40,
   "metadata": {},
   "outputs": [],
   "source": [
    "#Create dictionary with csv name as key and df as value\n",
    "def create_dict(csv_files):\n",
    "    df_dict = {}\n",
    "    for csv in csv_files:\n",
    "        csv_path = str(os.getcwd() + '/' + new_directory + '/' + csv)\n",
    "        df_dict[csv] = pd.read_csv(csv_path, index_col = 0)\n",
    "    return df_dict"
   ]
  },
  {
   "cell_type": "code",
   "execution_count": 41,
   "metadata": {},
   "outputs": [],
   "source": [
    "# cleans column names and changes pd datatypes to sql datatypes\n",
    "def clean_columns(dataframe):\n",
    "    dataframe_columns = [re.sub(r'[^\\w\\.]', '_', column_name).lower() for column_name in dataframe.columns]\n",
    "\n",
    "# Replacing pd datatypes with sql datatypes\n",
    "    replacements = {\n",
    "        'timedelta64[ns]': 'varchar(255)',\n",
    "        'object': 'varchar(255)',\n",
    "        'float64': 'float',\n",
    "        'bool': 'boolean',\n",
    "        'int64': 'int',\n",
    "        'datetime64': 'timestamp'}\n",
    "    replaced_dtypes = dataframe.dtypes.replace(replacements)\n",
    "    # table schema\n",
    "    column_dtype = \", \".join(\"{} {}\".format(col_name, dtype) for (col_name, dtype) in zip(dataframe_columns, replaced_dtypes))\n",
    "\n",
    "    return dataframe_columns, column_dtype\n"
   ]
  },
  {
   "cell_type": "code",
   "execution_count": 42,
   "metadata": {},
   "outputs": [],
   "source": [
    "# Connects to postgres\n",
    "def connect_to_postgres(host,user,password,database):\n",
    "    conn = psycopg2.connect(host = host,\n",
    "    user = user, \n",
    "    password = password,\n",
    "    database = database)\n",
    "\n",
    "    return conn\n",
    "# uploads csv to DB\n",
    "def upload_csv_to_DB(conn,dataframe,key, dataframe_columns,column_dtype):\n",
    "    cursor = conn.cursor()\n",
    "    db_table_name = key.split('.')[0]\n",
    "    #dataframe.columns as a str\n",
    "    dataframe_columns_insertable = ', '.join(dataframe_columns)\n",
    "    # create queries\n",
    "    drop_table = 'DROP TABLE IF EXISTS ' + db_table_name\n",
    "    create_table = 'CREATE TABLE ' + db_table_name + \" (\" + column_dtype + \")\"\n",
    "    insert_into_table = 'INSERT INTO ' + db_table_name + '(' + dataframe_columns_insertable + ')' \\\n",
    "    +' VALUES ( %s' % ', '.join(['%s'] * len(dataframe_columns)) +')'\n",
    "        \n",
    "    select_table = 'SELECT * FROM ' + db_table_name\n",
    "\n",
    "    cursor.execute(drop_table)\n",
    "    cursor.execute(create_table)\n",
    "    # create insert into function\n",
    "    for index, row in dataframe.iterrows():\n",
    "        cursor.execute(insert_into_table,row)\n",
    "\n",
    "    conn.commit()\n",
    "\n",
    "    # Grant access to all users\n",
    "    cursor.execute('GRANT SELECT, INSERT, UPDATE ON TABLE %s TO PUBLIC' % db_table_name)\n",
    "\n",
    "    # Show table in DB\n",
    "    cursor.execute(select_table)\n",
    "    for each in cursor:\n",
    "        print(each)\n",
    "    \n",
    "\n",
    "    cursor.close()"
   ]
  },
  {
   "cell_type": "code",
   "execution_count": 43,
   "metadata": {},
   "outputs": [
    {
     "name": "stdout",
     "output_type": "stream",
     "text": [
      "('New York', 'NY', 'New York', 36061, 'New York', 40.6943, -73.9249, 18713220, 10715, 'polygon', False, True, 'America/New_York', 1, 1840034016)\n",
      "('Los Angeles', 'CA', 'California', 6037, 'Los Angeles', 34.1139, -118.4068, 12750807, 3276, 'polygon', False, True, 'America/Los_Angeles', 1, 1840020491)\n",
      "('Chicago', 'IL', 'Illinois', 17031, 'Cook', 41.8373, -87.6862, 8604203, 4574, 'polygon', False, True, 'America/Chicago', 1, 1840000494)\n",
      "('Miami', 'FL', 'Florida', 12086, 'Miami-Dade', 25.7839, -80.2102, 6445545, 5019, 'polygon', False, True, 'America/New_York', 1, 1840015149)\n",
      "('Dallas', 'TX', 'Texas', 48113, 'Dallas', 32.7936, -96.7662, 5743938, 1526, 'polygon', False, True, 'America/Chicago', 1, 1840019440)\n",
      "('Philadelphia', 'PA', 'Pennsylvania', 42101, 'Philadelphia', 40.0077, -75.1339, 5649300, 4554, 'polygon', False, True, 'America/New_York', 1, 1840000673)\n",
      "('Houston', 'TX', 'Texas', 48201, 'Harris', 29.7863, -95.3889, 5464251, 1399, 'polygon', False, True, 'America/Chicago', 1, 1840020925)\n",
      "('Atlanta', 'GA', 'Georgia', 13121, 'Fulton', 33.7627, -84.4224, 5449398, 1441, 'polygon', False, True, 'America/New_York', 1, 1840013660)\n",
      "('Washington', 'DC', 'District of Columbia', 11001, 'District of Columbia', 38.9047, -77.0163, 5379184, 4457, 'polygon', False, True, 'America/New_York', 1, 1840006060)\n",
      "('2020-01-22', 'Afghanistan', 0, 0, 0)\n",
      "('2020-01-23', 'Afghanistan', 0, 0, 0)\n",
      "('2020-01-24', 'Afghanistan', 0, 0, 0)\n",
      "('2020-01-25', 'Afghanistan', 0, 0, 0)\n",
      "('2020-01-26', 'Afghanistan', 0, 0, 0)\n",
      "('2020-01-27', 'Afghanistan', 0, 0, 0)\n",
      "('2020-01-28', 'Afghanistan', 0, 0, 0)\n",
      "('2020-01-29', 'Afghanistan', 0, 0, 0)\n",
      "('2020-01-30', 'Afghanistan', 0, 0, 0)\n",
      "('2020-01-31', 'Afghanistan', 0, 0, 0)\n"
     ]
    }
   ],
   "source": [
    "# Main.py\n",
    "new_directory = \"imported_csv\"\n",
    "\n",
    "# Create list of csv\n",
    "csv_files = create_csv_list()\n",
    "\n",
    "# Create new directory and move files\n",
    "change_directory (csv_files, new_directory)\n",
    "\n",
    "# Create dict\n",
    "df_dict = create_dict(csv_files)\n",
    "\n",
    "for key in df_dict:\n",
    "# value\n",
    "    dataframe = df_dict[key]\n",
    "    dataframe_columns, column_dtype = clean_columns(dataframe)\n",
    "    conn = connect_to_postgres(cred.host, cred.user, cred.password, cred.database)\n",
    "    upload_csv_to_DB(conn, dataframe, key, dataframe_columns, column_dtype)\n"
   ]
  },
  {
   "cell_type": "code",
   "execution_count": null,
   "metadata": {},
   "outputs": [],
   "source": []
  },
  {
   "cell_type": "code",
   "execution_count": null,
   "metadata": {},
   "outputs": [],
   "source": []
  }
 ],
 "metadata": {
  "interpreter": {
   "hash": "0adcc2737ebf6a4a119f135174df96668767fca1ef1112612db5ecadf2b6d608"
  },
  "kernelspec": {
   "display_name": "Python 3.8.5 64-bit",
   "name": "python3"
  },
  "language_info": {
   "codemirror_mode": {
    "name": "ipython",
    "version": 3
   },
   "file_extension": ".py",
   "mimetype": "text/x-python",
   "name": "python",
   "nbconvert_exporter": "python",
   "pygments_lexer": "ipython3",
   "version": "3.8.5"
  }
 },
 "nbformat": 4,
 "nbformat_minor": 5
}
