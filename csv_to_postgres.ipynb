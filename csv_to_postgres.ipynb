{
 "cells": [
  {
   "cell_type": "code",
   "execution_count": 27,
   "id": "0a1f57f7",
   "metadata": {},
   "outputs": [
    {
     "data": {
      "text/plain": [
       "<module 'postgres_creds' from '/Users/chewynguyen/Desktop/csv_postgres_connector/postgres_creds.py'>"
      ]
     },
     "execution_count": 27,
     "metadata": {},
     "output_type": "execute_result"
    }
   ],
   "source": [
    "import os\n",
    "import pandas as pd\n",
    "import numpy as np\n",
    "import psycopg2\n",
    "import postgres_creds as cred\n",
    "# Since changes were made in cred and our ipynb can't see new changes, we use Importlib to reload the module\n",
    "import importlib\n",
    "importlib.reload(cred)"
   ]
  },
  {
   "cell_type": "code",
   "execution_count": 28,
   "metadata": {},
   "outputs": [],
   "source": [
    "# Import csv into dataframe\n",
    "url = \"https://raw.githubusercontent.com/datasets/covid-19/main/data/countries-aggregated.csv\"\n",
    "df = pd.read_csv(url)\n",
    "table_name = url.replace('https://raw.githubusercontent.com/datasets/covid-19/main/data/countries-aggregated.csv','countries_aggregated')"
   ]
  },
  {
   "cell_type": "code",
   "execution_count": 29,
   "metadata": {},
   "outputs": [
    {
     "name": "stdout",
     "output_type": "stream",
     "text": [
      "Date         object\n",
      "Country      object\n",
      "Confirmed     int64\n",
      "Recovered     int64\n",
      "Deaths        int64\n",
      "dtype: object\n",
      "Date varchar(255), Country varchar(255), Confirmed int, Recovered int, Deaths int\n"
     ]
    }
   ],
   "source": [
    "# Replacing pd datatypes with sql datatypes\n",
    "replacements = {\n",
    "        'timedelta64[ns]': 'varchar(255)',\n",
    "        'object': 'varchar(255)',\n",
    "        'float64': 'float',\n",
    "        'int64': 'int',\n",
    "        'datetime64': 'timestamp'}\n",
    "print(df.dtypes)\n",
    "replaced_dtypes = df.dtypes.replace(replacements)\n",
    "# Places column name next to DB object type, used inside SQL create table statement\n",
    "column_dtype = \", \".join(\"{} {}\".format(n, d) for (n, d) in zip(df.columns, replaced_dtypes))\n",
    "print(column_dtype)"
   ]
  },
  {
   "cell_type": "code",
   "execution_count": 30,
   "metadata": {},
   "outputs": [],
   "source": [
    "conn = psycopg2.connect(\n",
    "    host = cred.host,\n",
    "    user = cred.user,\n",
    "    password = cred.password,\n",
    "    database = cred.database)\n",
    "\n",
    "cursor = conn.cursor()"
   ]
  },
  {
   "cell_type": "markdown",
   "metadata": {},
   "source": [
    "Testing Strategy\n",
    "\n",
    "1. create df_10 dataframe\n",
    "2. drop table, create table in DB with replaced object type, insert statement queries\n",
    "3. create insert into function\n",
    "4. Show table in DB funtion"
   ]
  },
  {
   "cell_type": "code",
   "execution_count": 31,
   "metadata": {},
   "outputs": [
    {
     "name": "stdout",
     "output_type": "stream",
     "text": [
      "('2020-01-22', 'Afghanistan', 0, 0, 0)\n",
      "('2020-01-23', 'Afghanistan', 0, 0, 0)\n",
      "('2020-01-24', 'Afghanistan', 0, 0, 0)\n",
      "('2020-01-25', 'Afghanistan', 0, 0, 0)\n",
      "('2020-01-26', 'Afghanistan', 0, 0, 0)\n",
      "('2020-01-27', 'Afghanistan', 0, 0, 0)\n",
      "('2020-01-28', 'Afghanistan', 0, 0, 0)\n",
      "('2020-01-29', 'Afghanistan', 0, 0, 0)\n",
      "('2020-01-30', 'Afghanistan', 0, 0, 0)\n",
      "('2020-01-31', 'Afghanistan', 0, 0, 0)\n"
     ]
    }
   ],
   "source": [
    "# 1. create df_10 dataframe\n",
    "df_10 = df.head(10)\n",
    "# df_10.to_csv('countries_test10')\n",
    "\n",
    "# 2. create queries\n",
    "drop_table = 'DROP TABLE IF EXISTS ' + table_name\n",
    "create_table = 'CREATE TABLE ' + table_name + \" (\" + column_dtype + \")\"\n",
    "insert_into_table = 'INSERT INTO countries_aggregated (Date,Country,Confirmed,Recovered,Deaths) VALUES (%s,%s,%s,%s,%s)'\n",
    "select_table = 'SELECT * FROM ' + table_name\n",
    "\n",
    "cursor.execute(drop_table)\n",
    "cursor.execute(create_table)\n",
    "# 3. create insert into function\n",
    "for index, row in df_10.iterrows():\n",
    "    cursor.execute(insert_into_table,row)\n",
    "conn.commit()\n",
    "\n",
    "# 4. Show table in DB\n",
    "cursor.execute(select_table)\n",
    "for each in cursor:\n",
    "    print(each)"
   ]
  }
 ],
 "metadata": {
  "interpreter": {
   "hash": "0adcc2737ebf6a4a119f135174df96668767fca1ef1112612db5ecadf2b6d608"
  },
  "kernelspec": {
   "display_name": "Python 3.8.5 64-bit",
   "name": "python3"
  },
  "language_info": {
   "codemirror_mode": {
    "name": "ipython",
    "version": 3
   },
   "file_extension": ".py",
   "mimetype": "text/x-python",
   "name": "python",
   "nbconvert_exporter": "python",
   "pygments_lexer": "ipython3",
   "version": "3.8.5"
  }
 },
 "nbformat": 4,
 "nbformat_minor": 5
}
