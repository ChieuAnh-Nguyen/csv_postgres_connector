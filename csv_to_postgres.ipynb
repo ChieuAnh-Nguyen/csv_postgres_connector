{
 "cells": [
  {
   "cell_type": "code",
   "execution_count": 681,
   "id": "0a1f57f7",
   "metadata": {},
   "outputs": [
    {
     "data": {
      "text/plain": [
       "<module 'postgres_creds' from '/Users/chewynguyen/Desktop/csv_postgres_connector/postgres_creds.py'>"
      ]
     },
     "execution_count": 681,
     "metadata": {},
     "output_type": "execute_result"
    }
   ],
   "source": [
    "import os\n",
    "import re\n",
    "import pandas as pd\n",
    "import numpy as np\n",
    "import psycopg2\n",
    "import postgres_creds as cred\n",
    "# Since changes were made in cred and our ipynb can't see new changes, we use Importlib to reload the module\n",
    "import importlib\n",
    "importlib.reload(cred)"
   ]
  },
  {
   "cell_type": "code",
   "execution_count": 682,
   "metadata": {},
   "outputs": [],
   "source": [
    "conn = psycopg2.connect(\n",
    "    host = cred.host,\n",
    "    user = cred.user,\n",
    "    password = cred.password,\n",
    "    database = cred.database)\n",
    "cursor = conn.cursor()"
   ]
  },
  {
   "cell_type": "markdown",
   "metadata": {},
   "source": [
    "Testing Strategy\n",
    "\n",
    "1. create df_10 dataframe\n",
    "2. drop table, create table in DB with replaced object type, insert statement queries\n",
    "3. create insert into function\n",
    "4. Show table in DB funtion"
   ]
  },
  {
   "cell_type": "markdown",
   "metadata": {},
   "source": [
    "Next Goal:\n",
    "\n",
    "1. Automate code: csv's can be imported without manually changing code\n",
    "2. Can upload multiple csv's at the same time\n",
    "\n",
    "Next Steps:\n",
    "\n",
    "0. Create new folder in current directory, if it exists, pass \n",
    "1. Add csv's in current directory to a list\n",
    "2. Check cwd, if csv in cwd, move csv to new folder\n",
    "3. Create dictionary with csv name as key and df as value\n",
    "4. Look inside new folder and clean the csv names and their column names"
   ]
  },
  {
   "cell_type": "code",
   "execution_count": 683,
   "metadata": {},
   "outputs": [],
   "source": [
    "# 0. Create new folder in current directory for csvs that have been processed, if it exists, pass\n",
    "new_directory = \"imported_csv\"\n",
    "try:\n",
    "    os.mkdir(new_directory)\n",
    "except:\n",
    "    pass\n"
   ]
  },
  {
   "cell_type": "code",
   "execution_count": 684,
   "metadata": {},
   "outputs": [
    {
     "name": "stdout",
     "output_type": "stream",
     "text": [
      "['cities_test.csv', 'countriestest_10.csv']\n"
     ]
    }
   ],
   "source": [
    "# 1. add csv's in current directory to a list\n",
    "# re.sub(r'[^\\w\\.]', '_', csv) substitutes all non word and num characters\n",
    "csv_files = []\n",
    "for csv in os.listdir(os.getcwd()):\n",
    "    if '.csv' in csv:\n",
    "        old_csv_name = str(os.getcwd() + '/' + csv)\n",
    "        csv = re.sub(r'[^\\w\\.]', '_', csv).lower()\n",
    "        # 2. Check cwd, if csv in cwd, move csv to new folder\n",
    "        new_csv_name = str(os.getcwd() + '/' + new_directory + '/' + csv)\n",
    "        if os.path.isfile(new_csv_name):\n",
    "            print(\"The file already exists\")\n",
    "        else:\n",
    "            # Rename the file\n",
    "            os.rename(old_csv_name, new_csv_name)\n",
    "        csv_files.append(csv)\n",
    "\n",
    "print(csv_files)"
   ]
  },
  {
   "cell_type": "code",
   "execution_count": 685,
   "metadata": {},
   "outputs": [
    {
     "name": "stdout",
     "output_type": "stream",
     "text": [
      "['cities_test.csv', 'countriestest_10.csv']\n"
     ]
    }
   ],
   "source": [
    "# automating read csv to df\n",
    "# 3. Create dictionary with csv name as key and df as value\n",
    "df = {}\n",
    "for csv in csv_files:\n",
    "    csv_path = str(os.getcwd() + '/' + new_directory + '/' + csv)\n",
    "    df[csv] = pd.read_csv(csv_path, index_col = 0)\n",
    "print(csv_files) \n"
   ]
  },
  {
   "cell_type": "code",
   "execution_count": 686,
   "metadata": {},
   "outputs": [
    {
     "name": "stdout",
     "output_type": "stream",
     "text": [
      "('New York', 'NY', 'New York', 36061, 'New York', 40.6943, -73.9249, 18713220, 10715, 'polygon', False, True, 'America/New_York', 1, 1840034016)\n",
      "('Los Angeles', 'CA', 'California', 6037, 'Los Angeles', 34.1139, -118.4068, 12750807, 3276, 'polygon', False, True, 'America/Los_Angeles', 1, 1840020491)\n",
      "('Chicago', 'IL', 'Illinois', 17031, 'Cook', 41.8373, -87.6862, 8604203, 4574, 'polygon', False, True, 'America/Chicago', 1, 1840000494)\n",
      "('Miami', 'FL', 'Florida', 12086, 'Miami-Dade', 25.7839, -80.2102, 6445545, 5019, 'polygon', False, True, 'America/New_York', 1, 1840015149)\n",
      "('Dallas', 'TX', 'Texas', 48113, 'Dallas', 32.7936, -96.7662, 5743938, 1526, 'polygon', False, True, 'America/Chicago', 1, 1840019440)\n",
      "('Philadelphia', 'PA', 'Pennsylvania', 42101, 'Philadelphia', 40.0077, -75.1339, 5649300, 4554, 'polygon', False, True, 'America/New_York', 1, 1840000673)\n",
      "('Houston', 'TX', 'Texas', 48201, 'Harris', 29.7863, -95.3889, 5464251, 1399, 'polygon', False, True, 'America/Chicago', 1, 1840020925)\n",
      "('Atlanta', 'GA', 'Georgia', 13121, 'Fulton', 33.7627, -84.4224, 5449398, 1441, 'polygon', False, True, 'America/New_York', 1, 1840013660)\n",
      "('Washington', 'DC', 'District of Columbia', 11001, 'District of Columbia', 38.9047, -77.0163, 5379184, 4457, 'polygon', False, True, 'America/New_York', 1, 1840006060)\n",
      "('2020-01-22', 'Afghanistan', 0, 0, 0)\n",
      "('2020-01-23', 'Afghanistan', 0, 0, 0)\n",
      "('2020-01-24', 'Afghanistan', 0, 0, 0)\n",
      "('2020-01-25', 'Afghanistan', 0, 0, 0)\n",
      "('2020-01-26', 'Afghanistan', 0, 0, 0)\n",
      "('2020-01-27', 'Afghanistan', 0, 0, 0)\n",
      "('2020-01-28', 'Afghanistan', 0, 0, 0)\n",
      "('2020-01-29', 'Afghanistan', 0, 0, 0)\n",
      "('2020-01-30', 'Afghanistan', 0, 0, 0)\n",
      "('2020-01-31', 'Afghanistan', 0, 0, 0)\n"
     ]
    }
   ],
   "source": [
    "# 4. Name already clean but look inside new folder and their column names\n",
    "\n",
    "for key in df:\n",
    "    dataframe = df[key]\n",
    "    clean_csv_name = re.sub(r'[^\\w\\.]', '_', key).lower()\n",
    "    dataframe.columns = [re.sub(r'[^\\w\\.]', '_', column_name).lower() for column_name in dataframe.columns]\n",
    "#dataframe.columns as a str\n",
    "    dataframe_columns_insertable = ', '.join(dataframe.columns)\n",
    "\n",
    "\n",
    "# Creates DB table name\n",
    "    db_table_name = key.split('.')[0]\n",
    "\n",
    "# Replacing pd datatypes with sql datatypes\n",
    "    replacements = {\n",
    "        'timedelta64[ns]': 'varchar(255)',\n",
    "        'object': 'varchar(255)',\n",
    "        'float64': 'float',\n",
    "        'bool': 'boolean',\n",
    "        'int64': 'int',\n",
    "        'datetime64': 'timestamp'}\n",
    "    replaced_dtypes = dataframe.dtypes.replace(replacements)\n",
    "    # table schema\n",
    "    column_dtype = \", \".join(\"{} {}\".format(col_name, dtype) for (col_name, dtype) in zip(dataframe.columns, replaced_dtypes))\n",
    "    \n",
    "\n",
    "    # 2. create queries\n",
    "    drop_table = 'DROP TABLE IF EXISTS ' + db_table_name\n",
    "    create_table = 'CREATE TABLE ' + db_table_name + \" (\" + column_dtype + \")\"\n",
    "    insert_into_table = 'INSERT INTO ' + db_table_name + '(' + dataframe_columns_insertable + ')' +' VALUES ( %s' % ', '.join(['%s'] * len(dataframe.columns)) +')'\n",
    "    select_table = 'SELECT * FROM ' + db_table_name\n",
    "\n",
    "    cursor.execute(drop_table)\n",
    "    cursor.execute(create_table)\n",
    "    # 3. create insert into function\n",
    "    for index, row in dataframe.iterrows():\n",
    "        cursor.execute(insert_into_table,row)\n",
    "\n",
    "    conn.commit()\n",
    "\n",
    "    # 4. Show table in DB\n",
    "    cursor.execute(select_table)\n",
    "    for each in cursor:\n",
    "        print(each)\n",
    "\n"
   ]
  },
  {
   "cell_type": "code",
   "execution_count": null,
   "metadata": {},
   "outputs": [],
   "source": []
  },
  {
   "cell_type": "code",
   "execution_count": null,
   "metadata": {},
   "outputs": [],
   "source": []
  }
 ],
 "metadata": {
  "interpreter": {
   "hash": "0adcc2737ebf6a4a119f135174df96668767fca1ef1112612db5ecadf2b6d608"
  },
  "kernelspec": {
   "display_name": "Python 3.8.5 64-bit",
   "name": "python3"
  },
  "language_info": {
   "codemirror_mode": {
    "name": "ipython",
    "version": 3
   },
   "file_extension": ".py",
   "mimetype": "text/x-python",
   "name": "python",
   "nbconvert_exporter": "python",
   "pygments_lexer": "ipython3",
   "version": "3.8.5"
  }
 },
 "nbformat": 4,
 "nbformat_minor": 5
}
